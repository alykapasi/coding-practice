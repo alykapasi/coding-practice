{
 "cells": [
  {
   "cell_type": "markdown",
   "id": "60e4a3cc-4255-42ad-a851-4049f27420b4",
   "metadata": {},
   "source": [
    "# 10. Testing\n",
    "### Importance of and Types of Tests"
   ]
  },
  {
   "cell_type": "code",
   "execution_count": null,
   "id": "30eb1cc3-0f10-4ee2-acdb-c558ee3e4c1d",
   "metadata": {},
   "outputs": [],
   "source": []
  }
 ],
 "metadata": {
  "kernelspec": {
   "display_name": "Python 3 (ipykernel)",
   "language": "python",
   "name": "python3"
  },
  "language_info": {
   "codemirror_mode": {
    "name": "ipython",
    "version": 3
   },
   "file_extension": ".py",
   "mimetype": "text/x-python",
   "name": "python",
   "nbconvert_exporter": "python",
   "pygments_lexer": "ipython3",
   "version": "3.10.12"
  }
 },
 "nbformat": 4,
 "nbformat_minor": 5
}
