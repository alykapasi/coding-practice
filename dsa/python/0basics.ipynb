{
 "cells": [
  {
   "cell_type": "markdown",
   "id": "38f22a6d-8a4d-486c-8a49-b31c453abfd8",
   "metadata": {},
   "source": [
    "# 0. Basics\n",
    "### Basics of the Python Language"
   ]
  },
  {
   "cell_type": "markdown",
   "id": "65c40fd3-aee8-4e67-bfb0-e9ee966ea066",
   "metadata": {},
   "source": [
    "### Introduction to Python"
   ]
  },
  {
   "cell_type": "markdown",
   "id": "5b64e32f-f6fc-4a92-8652-69531b2f9312",
   "metadata": {},
   "source": [
    "### Variables and Data Types"
   ]
  },
  {
   "cell_type": "markdown",
   "id": "85433902-2c07-41c1-a237-16fdcfa39e37",
   "metadata": {},
   "source": [
    "### Operators"
   ]
  }
 ],
 "metadata": {
  "kernelspec": {
   "display_name": "Python 3 (ipykernel)",
   "language": "python",
   "name": "python3"
  },
  "language_info": {
   "codemirror_mode": {
    "name": "ipython",
    "version": 3
   },
   "file_extension": ".py",
   "mimetype": "text/x-python",
   "name": "python",
   "nbconvert_exporter": "python",
   "pygments_lexer": "ipython3",
   "version": "3.10.12"
  }
 },
 "nbformat": 4,
 "nbformat_minor": 5
}
