{
 "cells": [
  {
   "cell_type": "markdown",
   "id": "d18cbcaf-2794-4cd3-8840-31d6328c037f",
   "metadata": {
    "tags": []
   },
   "source": [
    "# 9. Algorithms\n",
    "### Searching and Sorting Algorithms"
   ]
  },
  {
   "cell_type": "code",
   "execution_count": null,
   "id": "0b74243e-6e47-4e7d-bb45-823db53b40f9",
   "metadata": {},
   "outputs": [],
   "source": []
  }
 ],
 "metadata": {
  "kernelspec": {
   "display_name": "Python 3 (ipykernel)",
   "language": "python",
   "name": "python3"
  },
  "language_info": {
   "codemirror_mode": {
    "name": "ipython",
    "version": 3
   },
   "file_extension": ".py",
   "mimetype": "text/x-python",
   "name": "python",
   "nbconvert_exporter": "python",
   "pygments_lexer": "ipython3",
   "version": "3.10.12"
  }
 },
 "nbformat": 4,
 "nbformat_minor": 5
}
