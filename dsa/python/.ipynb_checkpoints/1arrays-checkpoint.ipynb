{
 "cells": [
  {
   "cell_type": "markdown",
   "id": "5da08d02-9ee9-4224-a3d5-190db0bf7f21",
   "metadata": {},
   "source": [
    "# 1. Arrays\n",
    "### Basic Python Arrays and Strings"
   ]
  },
  {
   "cell_type": "markdown",
   "id": "d8d0da99",
   "metadata": {
    "tags": []
   },
   "source": [
    "#### What is an array?\n",
    "> An array is a collection of items of the same type, stored contiguously in memory. A caveat to that is that python allows arrays to store anytype of item; `arr = ['a', \"apple\", 0, 0.25]` is a valid array in python, but most coding languages do not allow that, and in most cases it's best practice to not do that and use an alternative means of storage, either an object, a json or convert them all to one type (string).In a pure computer science sense, lists can store multiple types of items, while arrays can only store one type. In python arrays are implented as lists. Monotyped arrays can also be used in python, but need to be imported using the arrays package.\n",
    "\n",
    "> One key feature of python arrays is that they are dynamically sized. In most languages such as `C/C++` and `Java`, arrays have a fixed type (static typed), but in python items can be added indefinitely.\n",
    "\n",
    "> The advantage of having dynamically sized arrays is that they are a lot easier to use and work with, but they are usually very inefficient in terms of memory. This is because when an element is added to the list the existing list is copied with the item(s) being added into a new larger list. And vice versa for when an element is being removed for the list. This essentially means the list's memory address is being changed everytime an element is added. This causes a lot of overhead.\n",
    "\n",
    "> In most programming langauges, lists are indexed from 0, not 1. For people who aren't very familiar with computer science that might be a little un-intuitive, but there is a reason for that. That is because how the arrays are stored in memory is that the first index is considered 0 and each following element is addressed by the computer by adding the size of the item type. \n",
    "\n",
    "> ^^^ <b>need to re-write this part</b>"
   ]
  },
  {
   "cell_type": "markdown",
   "id": "f913803a-5f2d-470c-9f29-14ed1203bd52",
   "metadata": {
    "tags": []
   },
   "source": [
    "#### Filling arrays\n",
    "\n",
    "> Arrays can also be filled in python a couple of ways, the first way is manually using the `+=` operator, a caveat is the item must be a list too, so if you want to add one item to a list it needs to be enclosed in square brackets.\n",
    "\n",
    "> The next way is to use the `append()` or `insert()` method; `append()` inserts the item at the end of the list, while `insert()` inserts the item at the specified index.\n",
    "\n",
    "> A python-ic way of instantiating lists is to use list comprehension. This is when a list is generated containing all the values within a certain condition. This is a common functional programming technique.\n",
    "\n",
    "> The `range()` function is very important for lists, as it generates a sequence of numbers. This is the most common way to populate lists. The range function takes between 1 and 3 arguments. If one argument is passed in like `range(10)` it will return a sequence `[0,10)`. If two arguments are passed as so\" `range(3,10)` the generated sequence will be `[3,10)`. If three elements are passed: `range(1,10,3)` the sequence generated will be `[1,4,7]`. Beacause `[1, 1+3, 1+3+3]`. \n",
    "\n",
    "> The first argument is the start of the sequence it's default value is 0. The second value is the end of the sequence and if only one value is passed, it is assigned to that argument. The third value is the step argument, it determines it should create the sequence with what step, it is 1 by default."
   ]
  },
  {
   "cell_type": "code",
   "execution_count": 10,
   "id": "e96f2af8-5106-4ba3-8252-6f717d8c40dd",
   "metadata": {
    "tags": []
   },
   "outputs": [
    {
     "name": "stdout",
     "output_type": "stream",
     "text": [
      "[]\n",
      "[0]\n",
      "[0, 1]\n",
      "[2, 0, 1]\n",
      "[0, 2, 4, 6, 8]\n",
      "[0, 1, 2, 3, 4, 5, 6, 7, 8, 9]\n",
      "[3, 4, 5, 6, 7, 8, 9]\n",
      "[1, 4, 7]\n"
     ]
    }
   ],
   "source": [
    "arr3 = []\n",
    "print(arr3)\n",
    "\n",
    "## using +=\n",
    "arr3 += [0]\n",
    "print(arr3)\n",
    "\n",
    "## using append() to add to the end of the list\n",
    "arr3.append(1)\n",
    "print(arr3)\n",
    "\n",
    "## using insert() with index 0 to append at the start of the list\n",
    "## the first index is the index, and the second argument is the item\n",
    "arr3.insert(0,2)\n",
    "print(arr3)\n",
    "\n",
    "## finally list comprehension can be used when many values need to be\n",
    "## added to a list based on some condition\n",
    "arr4 = [i for i in range(0,10,2)]\n",
    "print(arr4)\n",
    "\n",
    "print([i for i in range(10)])\n",
    "print([i for i in range(3,10)])\n",
    "print([i for i in range(1,10,3)])"
   ]
  },
  {
   "cell_type": "markdown",
   "id": "fe9bff37-6201-466f-bbf3-2eeaa6f4193d",
   "metadata": {
    "tags": []
   },
   "source": [
    "> Another common example of lists are nested lists, when a list exists inside another list. These are often used to create multidimensional arrays, with the exception of multidimensional arrays, nested lists are not commonly used. We will discuss nested arrays a little later."
   ]
  },
  {
   "cell_type": "markdown",
   "id": "7f762755-a0d2-4eb1-b2a8-3e36fc3d1552",
   "metadata": {
    "tags": []
   },
   "source": [
    "#### Array operations"
   ]
  },
  {
   "cell_type": "markdown",
   "id": "0ddfe0d1-cf2e-473a-9bf6-f92f6654ced3",
   "metadata": {},
   "source": [
    "> The main array operations in python are `search`, `update`, `insert`, `delete` items.\n",
    "\n",
    "> The best case is that it is the first item or last item, so it would be a constant time complexity O(1).\n",
    "> The worst case is that it is an item in the middle of the array, so it would have a time complexity of the list size O(n), where n = length of the array. This is because we would have to check every element before we reach the target.\n",
    "> The average time complexity for all these operations therefore is O(n), assuming the index is not known.\n",
    "> If the index of the target is known the operations run in O(1) time as there is no need to search for the item.\n",
    "\n",
    "> Concatinating lists also is an O(n) operation as what happens is essentially each item is just added to the target list. It is not too disimilar to an individual append for each element in the source list."
   ]
  },
  {
   "cell_type": "code",
   "execution_count": 11,
   "id": "966fd0ae-5425-4683-8b7a-29d96174bdc2",
   "metadata": {
    "tags": []
   },
   "outputs": [
    {
     "name": "stdout",
     "output_type": "stream",
     "text": [
      "10\n"
     ]
    }
   ],
   "source": [
    "arr = [i for i in range(20)]\n",
    "## first element, this will take the same time irrespective of the size of the array\n",
    "arr[0]\n",
    "\n",
    "## last element, this will be the same\n",
    "arr[-1]\n",
    "\n",
    "## a random element in the middle, will take a variable time depending on the size of the array\n",
    "## this would keep running until a match is found so the time is not constant <!= O(1)>\n",
    "target = 9\n",
    "steps = 0\n",
    "for num in arr:\n",
    "    steps += 1\n",
    "    if num == target:\n",
    "        print(steps)\n",
    "        break"
   ]
  },
  {
   "cell_type": "markdown",
   "id": "a0241637-db7c-4da0-9097-f1ad232f5281",
   "metadata": {},
   "source": [
    "#### Python's array methods\n",
    "\n",
    "> Python comes with some in-built array methods that allow modification of the arrays."
   ]
  },
  {
   "cell_type": "markdown",
   "id": "b825e0ac-e50b-4a69-99af-c0d55cbbac77",
   "metadata": {
    "tags": []
   },
   "source": [
    "###### append(item)\n",
    "> inserts an item at the end of the list\n",
    "> this operation has O(1) time complexity, as stated by the official python docs"
   ]
  },
  {
   "cell_type": "code",
   "execution_count": 12,
   "id": "7d5759bf-0522-4518-b100-742e1681cd93",
   "metadata": {
    "tags": []
   },
   "outputs": [
    {
     "name": "stdout",
     "output_type": "stream",
     "text": [
      "[1, 2, 3, 4]\n",
      "[1, 2, 3, 4, 5]\n"
     ]
    }
   ],
   "source": [
    "arr = [1,2,3,4]\n",
    "print(arr)\n",
    "arr.append(5)\n",
    "print(arr)"
   ]
  },
  {
   "cell_type": "markdown",
   "id": "1ad4a3dc-d5eb-4d74-a1bc-23445ecf49f2",
   "metadata": {
    "tags": []
   },
   "source": [
    "###### extend(iterable)\n",
    "> inserts an iterable (list) at the end of the list, extending the list this differs from append because append will just add the iterable as is.\n",
    "> this operation has O(k) time complexity, as stated by the official python docs; where k is the amount of items in the iterable."
   ]
  },
  {
   "cell_type": "code",
   "execution_count": 16,
   "id": "2b42b359-5728-4dd2-b7eb-c175808fe190",
   "metadata": {
    "tags": []
   },
   "outputs": [
    {
     "name": "stdout",
     "output_type": "stream",
     "text": [
      "[1, 2, 3, 4, [5, 6]]\n",
      "[1, 2, 3, 4, 5, 6]\n"
     ]
    }
   ],
   "source": [
    "arr = [1,2,3,4]\n",
    "arr.append([5,6])\n",
    "print(arr)\n",
    "arr = [1,2,3,4]\n",
    "arr.extend([5,6])\n",
    "print(arr)"
   ]
  },
  {
   "cell_type": "markdown",
   "id": "1207d889-9d26-4abe-a9e6-c0b10a89552c",
   "metadata": {
    "tags": []
   },
   "source": [
    "###### insert(index, item)\n",
    "> inserts an item at the specified index of the list.\n",
    "> this operation has O(n) time complexity, as stated by the official python docs.\n",
    "> this is because while finding the index and inserting takes constant time, but the elements after the index need to be shifted one space."
   ]
  },
  {
   "cell_type": "code",
   "execution_count": 17,
   "id": "f974567f-d4a8-4d70-b9a4-8bbe1159ddee",
   "metadata": {
    "tags": []
   },
   "outputs": [
    {
     "name": "stdout",
     "output_type": "stream",
     "text": [
      "[1, 2, 0, 3, 4]\n"
     ]
    }
   ],
   "source": [
    "arr = [1,2,3,4]\n",
    "arr.insert(2, 0)\n",
    "print(arr)"
   ]
  },
  {
   "cell_type": "markdown",
   "id": "283482e6-c6f6-4e30-aed0-2cb6707d7506",
   "metadata": {
    "tags": []
   },
   "source": [
    "###### remove(item) & pop(index)\n",
    "> both have similar functionality\n",
    "> `remove()` removes the first instance of an item in the list, if it exists\n",
    "> `pop()` removes the element at the specified index and returns it, if there is no index specified it will pop the last element in the array by default\n",
    "> this operation has O(n) time complexity, but `pop()` with no arguments is O(1), because it just needs to find the last element.\n",
    "> remove needs to search through the list until a match is found, and pop needs to shift the elements after it one position prior."
   ]
  },
  {
   "cell_type": "code",
   "execution_count": 19,
   "id": "2f0f3719-6286-4f36-a4ab-7c59514f3c43",
   "metadata": {
    "tags": []
   },
   "outputs": [
    {
     "name": "stdout",
     "output_type": "stream",
     "text": [
      "[1, 2, 3, 4, 5, 6, 7]\n",
      "1 [2, 3, 4, 5, 6]\n"
     ]
    }
   ],
   "source": [
    "arr = [1,2,3,4,5,6,7,7]\n",
    "arr.remove(7)\n",
    "print(arr)\n",
    "out = arr.pop(0)\n",
    "arr.pop()\n",
    "print(out, arr)"
   ]
  },
  {
   "cell_type": "markdown",
   "id": "aa4ef139-9af9-49ac-92a9-2c58963dd46e",
   "metadata": {},
   "source": [
    "###### index(item)\n",
    "> returns the index of an item in the list, else returns an error.\n",
    "> this operation has O(n) time complexity, as stated by the official python docs.\n",
    "> this is because it must look through the list one by one to find the item."
   ]
  },
  {
   "cell_type": "code",
   "execution_count": 20,
   "id": "16b3d3a5-d4b6-4697-9eec-20ab2dd880be",
   "metadata": {
    "tags": []
   },
   "outputs": [
    {
     "name": "stdout",
     "output_type": "stream",
     "text": [
      "2\n"
     ]
    }
   ],
   "source": [
    "arr = [1,2,3,4,5,6,7,8]\n",
    "print(arr.index(3))"
   ]
  },
  {
   "cell_type": "markdown",
   "id": "7dd0413e-6839-4733-8cc4-5e47779dee54",
   "metadata": {},
   "source": [
    "###### count(item)\n",
    "> returns the amount of times of an item is in the list.\n",
    "> this operation has O(n) time complexity, as stated by the official python docs.\n",
    "> this is because it must look through the list one by one to find the item."
   ]
  },
  {
   "cell_type": "markdown",
   "id": "47c8b133-0361-4c02-bde2-a4f8469c4b7d",
   "metadata": {},
   "source": [
    "###### sort(reverse)\n",
    "> returns the amount of times of an item is in the list.\n",
    "> this operation has O(n) time complexity, as stated by the official python docs.\n",
    "> this is because it must look through the list one by one to find the item."
   ]
  },
  {
   "cell_type": "markdown",
   "id": "d0261495-d4cf-4c17-b2d4-f1557eb3b82c",
   "metadata": {},
   "source": [
    "###### reverse()\n",
    "> returns the amount of times of an item is in the list.\n",
    "> this operation has O(n) time complexity, as stated by the official python docs.\n",
    "> this is because it must look through the list one by one to find the item."
   ]
  },
  {
   "cell_type": "markdown",
   "id": "449698d6-6670-4e5f-b521-1cf4af16be3b",
   "metadata": {},
   "source": [
    "###### copy()\n",
    "> returns the amount of times of an item is in the list.\n",
    "> this operation has O(n) time complexity, as stated by the official python docs.\n",
    "> this is because it must look through the list one by one to find the item."
   ]
  },
  {
   "cell_type": "code",
   "execution_count": null,
   "id": "5019840f-3778-434f-8dbd-9cde35321d5e",
   "metadata": {},
   "outputs": [],
   "source": []
  }
 ],
 "metadata": {
  "kernelspec": {
   "display_name": "Python 3 (ipykernel)",
   "language": "python",
   "name": "python3"
  },
  "language_info": {
   "codemirror_mode": {
    "name": "ipython",
    "version": 3
   },
   "file_extension": ".py",
   "mimetype": "text/x-python",
   "name": "python",
   "nbconvert_exporter": "python",
   "pygments_lexer": "ipython3",
   "version": "3.10.12"
  }
 },
 "nbformat": 4,
 "nbformat_minor": 5
}
