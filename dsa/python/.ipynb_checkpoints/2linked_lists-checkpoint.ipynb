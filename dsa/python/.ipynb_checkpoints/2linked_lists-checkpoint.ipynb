{
 "cells": [
  {
   "cell_type": "markdown",
   "id": "69c8c537-5c1f-4c55-bf09-b8cc68551f4f",
   "metadata": {},
   "source": [
    "# 2. Linked Lists\n",
    "### Singly and Doubly Linked Lists"
   ]
  },
  {
   "cell_type": "code",
   "execution_count": null,
   "id": "69727ffe-90b9-496a-a46b-9bbc2e87c634",
   "metadata": {},
   "outputs": [],
   "source": []
  }
 ],
 "metadata": {
  "kernelspec": {
   "display_name": "Python 3 (ipykernel)",
   "language": "python",
   "name": "python3"
  },
  "language_info": {
   "codemirror_mode": {
    "name": "ipython",
    "version": 3
   },
   "file_extension": ".py",
   "mimetype": "text/x-python",
   "name": "python",
   "nbconvert_exporter": "python",
   "pygments_lexer": "ipython3",
   "version": "3.10.12"
  }
 },
 "nbformat": 4,
 "nbformat_minor": 5
}
