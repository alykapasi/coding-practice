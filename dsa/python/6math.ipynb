{
 "cells": [
  {
   "cell_type": "markdown",
   "id": "420d3f7b-4771-4afa-875e-5c8be926dab2",
   "metadata": {},
   "source": [
    "# 6. Math\n",
    "### Mathemtaics and Logic in Programming "
   ]
  }
 ],
 "metadata": {
  "kernelspec": {
   "display_name": "Python 3 (ipykernel)",
   "language": "python",
   "name": "python3"
  },
  "language_info": {
   "codemirror_mode": {
    "name": "ipython",
    "version": 3
   },
   "file_extension": ".py",
   "mimetype": "text/x-python",
   "name": "python",
   "nbconvert_exporter": "python",
   "pygments_lexer": "ipython3",
   "version": "3.10.12"
  }
 },
 "nbformat": 4,
 "nbformat_minor": 5
}
