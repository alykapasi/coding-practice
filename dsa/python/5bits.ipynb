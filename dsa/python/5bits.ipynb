{
 "cells": [
  {
   "cell_type": "markdown",
   "id": "916b4587-0842-49fa-8522-9ed2311feaaa",
   "metadata": {},
   "source": [
    "# 5. Bits\n",
    "### Working with Binary"
   ]
  },
  {
   "cell_type": "code",
   "execution_count": null,
   "id": "86e6a508-a551-406b-bd12-d2fc321770d4",
   "metadata": {},
   "outputs": [],
   "source": []
  }
 ],
 "metadata": {
  "kernelspec": {
   "display_name": "Python 3 (ipykernel)",
   "language": "python",
   "name": "python3"
  },
  "language_info": {
   "codemirror_mode": {
    "name": "ipython",
    "version": 3
   },
   "file_extension": ".py",
   "mimetype": "text/x-python",
   "name": "python",
   "nbconvert_exporter": "python",
   "pygments_lexer": "ipython3",
   "version": "3.10.12"
  }
 },
 "nbformat": 4,
 "nbformat_minor": 5
}
