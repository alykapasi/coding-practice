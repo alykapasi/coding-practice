{
 "cells": [
  {
   "cell_type": "markdown",
   "id": "dddf3af0-6cc3-4c54-af16-ddc983dc8904",
   "metadata": {},
   "source": [
    "# 8. Dynamic Programming\n",
    "### Recursion, Greedy Algorithms, Divide & Conquer and Dynamic Programming"
   ]
  },
  {
   "cell_type": "code",
   "execution_count": null,
   "id": "793c11f1-c227-48b1-81b9-f59824eec118",
   "metadata": {},
   "outputs": [],
   "source": []
  }
 ],
 "metadata": {
  "kernelspec": {
   "display_name": "Python 3 (ipykernel)",
   "language": "python",
   "name": "python3"
  },
  "language_info": {
   "codemirror_mode": {
    "name": "ipython",
    "version": 3
   },
   "file_extension": ".py",
   "mimetype": "text/x-python",
   "name": "python",
   "nbconvert_exporter": "python",
   "pygments_lexer": "ipython3",
   "version": "3.10.12"
  }
 },
 "nbformat": 4,
 "nbformat_minor": 5
}
